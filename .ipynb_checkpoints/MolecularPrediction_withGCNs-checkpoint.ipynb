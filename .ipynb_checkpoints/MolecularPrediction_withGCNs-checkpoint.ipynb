{
 "cells": [
  {
   "cell_type": "code",
   "execution_count": 1,
   "id": "741de375",
   "metadata": {},
   "outputs": [
    {
     "name": "stdout",
     "output_type": "stream",
     "text": [
      "Collecting spektral\n",
      "  Downloading spektral-1.0.8-py3-none-any.whl (123 kB)\n",
      "\u001b[K     |████████████████████████████████| 123 kB 787 kB/s eta 0:00:01\n",
      "\u001b[?25hRequirement already satisfied: joblib in /Users/sidneyarcidiacono/opt/anaconda3/lib/python3.8/site-packages (from spektral) (1.0.1)\n",
      "Requirement already satisfied: lxml in /Users/sidneyarcidiacono/opt/anaconda3/lib/python3.8/site-packages (from spektral) (4.6.3)\n",
      "Requirement already satisfied: scikit-learn in /Users/sidneyarcidiacono/opt/anaconda3/lib/python3.8/site-packages (from spektral) (0.24.1)\n",
      "Requirement already satisfied: pandas in /Users/sidneyarcidiacono/opt/anaconda3/lib/python3.8/site-packages (from spektral) (1.2.4)\n",
      "Requirement already satisfied: networkx in /Users/sidneyarcidiacono/opt/anaconda3/lib/python3.8/site-packages (from spektral) (2.5)\n",
      "Requirement already satisfied: scipy in /Users/sidneyarcidiacono/opt/anaconda3/lib/python3.8/site-packages (from spektral) (1.6.2)\n",
      "Collecting tensorflow>=2.1.0\n",
      "  Downloading tensorflow-2.6.0-cp38-cp38-macosx_10_11_x86_64.whl (199.0 MB)\n",
      "\u001b[K     |████████████████████████████████| 199.0 MB 54.0 MB/s eta 0:00:01\n",
      "\u001b[?25hRequirement already satisfied: tqdm in /Users/sidneyarcidiacono/opt/anaconda3/lib/python3.8/site-packages (from spektral) (4.59.0)\n",
      "Requirement already satisfied: requests in /Users/sidneyarcidiacono/opt/anaconda3/lib/python3.8/site-packages (from spektral) (2.25.1)\n",
      "Collecting numpy<1.20\n",
      "  Using cached numpy-1.19.5-cp38-cp38-macosx_10_9_x86_64.whl (15.6 MB)\n",
      "Collecting termcolor~=1.1.0\n",
      "  Using cached termcolor-1.1.0.tar.gz (3.9 kB)\n",
      "Collecting tensorflow-estimator~=2.6\n",
      "  Downloading tensorflow_estimator-2.6.0-py2.py3-none-any.whl (462 kB)\n",
      "\u001b[K     |████████████████████████████████| 462 kB 2.6 MB/s eta 0:00:01\n",
      "\u001b[?25hCollecting keras-preprocessing~=1.1.2\n",
      "  Using cached Keras_Preprocessing-1.1.2-py2.py3-none-any.whl (42 kB)\n",
      "Collecting gast==0.4.0\n",
      "  Downloading gast-0.4.0-py3-none-any.whl (9.8 kB)\n",
      "Requirement already satisfied: six~=1.15.0 in /Users/sidneyarcidiacono/opt/anaconda3/lib/python3.8/site-packages (from tensorflow>=2.1.0->spektral) (1.15.0)\n",
      "Collecting absl-py~=0.10\n",
      "  Downloading absl_py-0.13.0-py3-none-any.whl (132 kB)\n",
      "\u001b[K     |████████████████████████████████| 132 kB 31.8 MB/s eta 0:00:01\n",
      "\u001b[?25hCollecting grpcio<2.0,>=1.37.0\n",
      "  Downloading grpcio-1.39.0-cp38-cp38-macosx_10_10_x86_64.whl (3.9 MB)\n",
      "\u001b[K     |████████████████████████████████| 3.9 MB 2.3 MB/s eta 0:00:01\n",
      "\u001b[?25hRequirement already satisfied: wheel~=0.35 in /Users/sidneyarcidiacono/opt/anaconda3/lib/python3.8/site-packages (from tensorflow>=2.1.0->spektral) (0.36.2)\n",
      "Collecting h5py~=3.1.0\n",
      "  Downloading h5py-3.1.0-cp38-cp38-macosx_10_9_x86_64.whl (2.9 MB)\n",
      "\u001b[K     |████████████████████████████████| 2.9 MB 4.4 MB/s eta 0:00:01\n",
      "\u001b[?25hCollecting keras~=2.6\n",
      "  Downloading keras-2.6.0-py2.py3-none-any.whl (1.3 MB)\n",
      "\u001b[K     |████████████████████████████████| 1.3 MB 8.1 MB/s eta 0:00:01\n",
      "\u001b[?25hCollecting tensorboard~=2.6\n",
      "  Downloading tensorboard-2.6.0-py3-none-any.whl (5.6 MB)\n",
      "\u001b[K     |████████████████████████████████| 5.6 MB 2.5 MB/s eta 0:00:01\n",
      "\u001b[?25hRequirement already satisfied: wrapt~=1.12.1 in /Users/sidneyarcidiacono/opt/anaconda3/lib/python3.8/site-packages (from tensorflow>=2.1.0->spektral) (1.12.1)\n",
      "Collecting protobuf>=3.9.2\n",
      "  Downloading protobuf-3.17.3-cp38-cp38-macosx_10_9_x86_64.whl (1.0 MB)\n",
      "\u001b[K     |████████████████████████████████| 1.0 MB 8.4 MB/s eta 0:00:01\n",
      "\u001b[?25hCollecting flatbuffers~=1.12.0\n",
      "  Using cached flatbuffers-1.12-py2.py3-none-any.whl (15 kB)\n",
      "Requirement already satisfied: typing-extensions~=3.7.4 in /Users/sidneyarcidiacono/opt/anaconda3/lib/python3.8/site-packages (from tensorflow>=2.1.0->spektral) (3.7.4.3)\n",
      "Collecting opt-einsum~=3.3.0\n",
      "  Using cached opt_einsum-3.3.0-py3-none-any.whl (65 kB)\n",
      "Collecting clang~=5.0\n",
      "  Downloading clang-5.0.tar.gz (30 kB)\n",
      "Collecting google-pasta~=0.2\n",
      "  Using cached google_pasta-0.2.0-py3-none-any.whl (57 kB)\n",
      "Collecting astunparse~=1.6.3\n",
      "  Using cached astunparse-1.6.3-py2.py3-none-any.whl (12 kB)\n",
      "Collecting google-auth-oauthlib<0.5,>=0.4.1\n",
      "  Downloading google_auth_oauthlib-0.4.6-py2.py3-none-any.whl (18 kB)\n",
      "Collecting google-auth<2,>=1.6.3\n",
      "  Downloading google_auth-1.35.0-py2.py3-none-any.whl (152 kB)\n",
      "\u001b[K     |████████████████████████████████| 152 kB 5.4 MB/s eta 0:00:01\n",
      "\u001b[?25hCollecting tensorboard-plugin-wit>=1.6.0\n",
      "  Using cached tensorboard_plugin_wit-1.8.0-py3-none-any.whl (781 kB)\n",
      "Requirement already satisfied: setuptools>=41.0.0 in /Users/sidneyarcidiacono/opt/anaconda3/lib/python3.8/site-packages (from tensorboard~=2.6->tensorflow>=2.1.0->spektral) (52.0.0.post20210125)\n",
      "Collecting markdown>=2.6.8\n",
      "  Downloading Markdown-3.3.4-py3-none-any.whl (97 kB)\n",
      "\u001b[K     |████████████████████████████████| 97 kB 7.7 MB/s  eta 0:00:01\n",
      "\u001b[?25hCollecting tensorboard-data-server<0.7.0,>=0.6.0\n",
      "  Downloading tensorboard_data_server-0.6.1-py3-none-macosx_10_9_x86_64.whl (3.5 MB)\n",
      "\u001b[K     |████████████████████████████████| 3.5 MB 13.1 MB/s eta 0:00:01\n",
      "\u001b[?25hRequirement already satisfied: werkzeug>=0.11.15 in /Users/sidneyarcidiacono/opt/anaconda3/lib/python3.8/site-packages (from tensorboard~=2.6->tensorflow>=2.1.0->spektral) (1.0.1)\n",
      "Collecting pyasn1-modules>=0.2.1\n",
      "  Using cached pyasn1_modules-0.2.8-py2.py3-none-any.whl (155 kB)\n",
      "Collecting rsa<5,>=3.1.4\n",
      "  Downloading rsa-4.7.2-py3-none-any.whl (34 kB)\n",
      "Collecting cachetools<5.0,>=2.0.0\n",
      "  Downloading cachetools-4.2.2-py3-none-any.whl (11 kB)\n",
      "Collecting requests-oauthlib>=0.7.0\n",
      "  Using cached requests_oauthlib-1.3.0-py2.py3-none-any.whl (23 kB)\n",
      "Collecting pyasn1<0.5.0,>=0.4.6\n",
      "  Using cached pyasn1-0.4.8-py2.py3-none-any.whl (77 kB)\n",
      "Requirement already satisfied: urllib3<1.27,>=1.21.1 in /Users/sidneyarcidiacono/opt/anaconda3/lib/python3.8/site-packages (from requests->spektral) (1.26.4)\n",
      "Requirement already satisfied: certifi>=2017.4.17 in /Users/sidneyarcidiacono/opt/anaconda3/lib/python3.8/site-packages (from requests->spektral) (2020.12.5)\n",
      "Requirement already satisfied: chardet<5,>=3.0.2 in /Users/sidneyarcidiacono/opt/anaconda3/lib/python3.8/site-packages (from requests->spektral) (4.0.0)\n",
      "Requirement already satisfied: idna<3,>=2.5 in /Users/sidneyarcidiacono/opt/anaconda3/lib/python3.8/site-packages (from requests->spektral) (2.10)\n",
      "Collecting oauthlib>=3.0.0\n",
      "  Downloading oauthlib-3.1.1-py2.py3-none-any.whl (146 kB)\n",
      "\u001b[K     |████████████████████████████████| 146 kB 8.1 MB/s eta 0:00:01\n",
      "\u001b[?25hRequirement already satisfied: decorator>=4.3.0 in /Users/sidneyarcidiacono/opt/anaconda3/lib/python3.8/site-packages (from networkx->spektral) (5.0.6)\n",
      "Requirement already satisfied: python-dateutil>=2.7.3 in /Users/sidneyarcidiacono/opt/anaconda3/lib/python3.8/site-packages (from pandas->spektral) (2.8.1)\n",
      "Requirement already satisfied: pytz>=2017.3 in /Users/sidneyarcidiacono/opt/anaconda3/lib/python3.8/site-packages (from pandas->spektral) (2021.1)\n",
      "Requirement already satisfied: threadpoolctl>=2.0.0 in /Users/sidneyarcidiacono/opt/anaconda3/lib/python3.8/site-packages (from scikit-learn->spektral) (2.1.0)\n",
      "Building wheels for collected packages: clang, termcolor\n",
      "  Building wheel for clang (setup.py) ... \u001b[?25ldone\n",
      "\u001b[?25h  Created wheel for clang: filename=clang-5.0-py3-none-any.whl size=30702 sha256=d5217b10ee091ee9f821aca324f20d4ed36911be944431bf70abab536dfa6719\n",
      "  Stored in directory: /Users/sidneyarcidiacono/Library/Caches/pip/wheels/f1/60/77/22b9b5887bd47801796a856f47650d9789c74dc3161a26d608\n",
      "  Building wheel for termcolor (setup.py) ... \u001b[?25ldone\n",
      "\u001b[?25h  Created wheel for termcolor: filename=termcolor-1.1.0-py3-none-any.whl size=4829 sha256=9095d029a83b14ac06ee65623e70a5b37c54982a060e16ab463ead2d9514bc9d\n",
      "  Stored in directory: /Users/sidneyarcidiacono/Library/Caches/pip/wheels/a0/16/9c/5473df82468f958445479c59e784896fa24f4a5fc024b0f501\n",
      "Successfully built clang termcolor\n",
      "Installing collected packages: pyasn1, rsa, pyasn1-modules, oauthlib, cachetools, requests-oauthlib, google-auth, tensorboard-plugin-wit, tensorboard-data-server, protobuf, numpy, markdown, grpcio, google-auth-oauthlib, absl-py, termcolor, tensorflow-estimator, tensorboard, opt-einsum, keras-preprocessing, keras, h5py, google-pasta, gast, flatbuffers, clang, astunparse, tensorflow, spektral\n",
      "  Attempting uninstall: numpy\n",
      "    Found existing installation: numpy 1.20.1\n"
     ]
    },
    {
     "name": "stdout",
     "output_type": "stream",
     "text": [
      "    Uninstalling numpy-1.20.1:\n",
      "      Successfully uninstalled numpy-1.20.1\n",
      "  Attempting uninstall: h5py\n",
      "    Found existing installation: h5py 2.10.0\n",
      "    Uninstalling h5py-2.10.0:\n",
      "      Successfully uninstalled h5py-2.10.0\n",
      "Successfully installed absl-py-0.13.0 astunparse-1.6.3 cachetools-4.2.2 clang-5.0 flatbuffers-1.12 gast-0.4.0 google-auth-1.35.0 google-auth-oauthlib-0.4.6 google-pasta-0.2.0 grpcio-1.39.0 h5py-3.1.0 keras-2.6.0 keras-preprocessing-1.1.2 markdown-3.3.4 numpy-1.19.5 oauthlib-3.1.1 opt-einsum-3.3.0 protobuf-3.17.3 pyasn1-0.4.8 pyasn1-modules-0.2.8 requests-oauthlib-1.3.0 rsa-4.7.2 spektral-1.0.8 tensorboard-2.6.0 tensorboard-data-server-0.6.1 tensorboard-plugin-wit-1.8.0 tensorflow-2.6.0 tensorflow-estimator-2.6.0 termcolor-1.1.0\n"
     ]
    }
   ],
   "source": [
    "# Uncomment & run me to install Spektral! \n",
    "# !pip install spektral"
   ]
  },
  {
   "cell_type": "markdown",
   "id": "6a6827ed",
   "metadata": {},
   "source": [
    "**The QM9 Dataset**\n",
    "\n",
    "The QM9 dataset is a benchmark small-molecule dataset comprised of labeled nodes (of which there are five types: H, C, N, O, F, representing their respective atoms on the periodic table, Hydrogen, Carbon, Nitrogen, Oxygen, and Fluoride) and edges which represent chemical bonds. "
   ]
  },
  {
   "cell_type": "code",
   "execution_count": 6,
   "id": "41181584",
   "metadata": {},
   "outputs": [
    {
     "name": "stdout",
     "output_type": "stream",
     "text": [
      "Downloading data from https://deepchemdata.s3-us-west-1.amazonaws.com/datasets/gdb9.tar.gz\n",
      "44859392/44852087 [==============================] - 12s 0us/step\n",
      "44867584/44852087 [==============================] - 12s 0us/step\n",
      "Loading QM9 dataset.\n",
      "Reading SDF\n"
     ]
    },
    {
     "name": "stderr",
     "output_type": "stream",
     "text": [
      "100%|██████████████████████████████████| 133885/133885 [02:39<00:00, 839.61it/s]\n"
     ]
    },
    {
     "name": "stdout",
     "output_type": "stream",
     "text": [
      "Dataset: QM9(n_graphs=133885)\n",
      "First graph: Graph(n_nodes=5, n_node_features=10, n_edge_features=4, n_labels=19)\n",
      "Number of graphs: 133885\n"
     ]
    }
   ],
   "source": [
    "# Import and read in our dataset\n",
    "from spektral.datasets.qm9 import QM9\n",
    "\n",
    "# Instantiate our dataset\n",
    "dataset = QM9()\n",
    "\n",
    "# Check out our features:\n",
    "print(f\"Dataset: {dataset}\")\n",
    "print(f\"First graph: {dataset[0]}\")\n",
    "print(f\"Number of graphs: {len(dataset)}\")"
   ]
  },
  {
   "cell_type": "code",
   "execution_count": 7,
   "id": "cb71f766",
   "metadata": {},
   "outputs": [
    {
     "name": "stdout",
     "output_type": "stream",
     "text": [
      "Graph labels: [ 1.57711800e+02  1.57709970e+02  1.57706990e+02  0.00000000e+00\n",
      "  1.32100000e+01 -3.87700000e-01  1.17100000e-01  5.04800000e-01\n",
      "  3.53641000e+01  4.47490000e-02 -4.04789300e+01 -4.04760620e+01\n",
      " -4.04751170e+01 -4.04985970e+01  6.46900000e+00 -3.95999595e+02\n",
      " -3.98643290e+02 -4.01014647e+02 -3.72471772e+02]\n",
      "First 10 node labels: [[ 0.0000e+00  1.0000e+00  0.0000e+00  0.0000e+00  0.0000e+00 -1.2700e-02\n",
      "   1.0858e+00  8.0000e-03  0.0000e+00  0.0000e+00]\n",
      " [ 1.0000e+00  0.0000e+00  0.0000e+00  0.0000e+00  0.0000e+00  2.2000e-03\n",
      "  -6.0000e-03  2.0000e-03  0.0000e+00  0.0000e+00]\n",
      " [ 1.0000e+00  0.0000e+00  0.0000e+00  0.0000e+00  0.0000e+00  1.0117e+00\n",
      "   1.4638e+00  3.0000e-04  0.0000e+00  0.0000e+00]\n",
      " [ 1.0000e+00  0.0000e+00  0.0000e+00  0.0000e+00  0.0000e+00 -5.4080e-01\n",
      "   1.4475e+00 -8.7660e-01  0.0000e+00  0.0000e+00]\n",
      " [ 1.0000e+00  0.0000e+00  0.0000e+00  0.0000e+00  0.0000e+00 -5.2380e-01\n",
      "   1.4379e+00  9.0640e-01  0.0000e+00  0.0000e+00]]\n"
     ]
    }
   ],
   "source": [
    "# Print the first few node labels, the graph labels, and the node features to see how they're represented\n",
    "# Our graph label is our 19-dimensional label for regression\n",
    "print(f\"Graph labels: {dataset[0].y}\")\n",
    "# Our node labels represent our atoms\n",
    "print(f\"First 10 node labels: {dataset[0].x[0:10]}\")"
   ]
  },
  {
   "cell_type": "code",
   "execution_count": null,
   "id": "33fcc74d",
   "metadata": {},
   "outputs": [],
   "source": []
  }
 ],
 "metadata": {
  "kernelspec": {
   "display_name": "Python 3",
   "language": "python",
   "name": "python3"
  },
  "language_info": {
   "codemirror_mode": {
    "name": "ipython",
    "version": 3
   },
   "file_extension": ".py",
   "mimetype": "text/x-python",
   "name": "python",
   "nbconvert_exporter": "python",
   "pygments_lexer": "ipython3",
   "version": "3.8.8"
  }
 },
 "nbformat": 4,
 "nbformat_minor": 5
}
